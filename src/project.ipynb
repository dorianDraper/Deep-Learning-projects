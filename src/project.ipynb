{
 "cells": [
  {
   "cell_type": "markdown",
   "metadata": {},
   "source": [
    "<h1 style=\"Comic Sans MS; text-align: center; color: #FFC300\">Image Classification System project: Dogs vs. Cats</h1>\n",
    "<h3 id=\"step1\" style=\"font-family: Comic Sans MS; color: #68FF33\">1. Problem statement and data collection</h3>\n",
    "<p style=\"color: pink\">The dataset is composed of dog and cat photos provided as a subset of photos from a much larger 3 million manually annotated photos. This data was obtained through a collaboration between Petfinder.com and Microsoft. This is a picture classification problem where we need to build an ANN. The training archive contains 25,000 images of dogs and cats. We have to train our algorithm on these files and predict the labels for test1.zip (1 = dog, 0 = cat). Specific requirements </p>\n",
    "<ul style=\"color: pink\">\n",
    "    <li>set a target variable XXXX to conduct the analysis. In this case we select: <em><b>XXXX</b></em></li>\n",
    "    <li>perform EDA so we keep the variables that are strictly necessary and eliminate those that are not relevant or do not provide information.</li>\n",
    "    <li>build, train and optimize a model using XXXX a metrics for evaluating it.</li>\n",
    "    <li>…</li>\n",
    "</ul>"
   ]
  },
  {
   "cell_type": "code",
   "execution_count": null,
   "metadata": {},
   "outputs": [],
   "source": []
  }
 ],
 "metadata": {
  "language_info": {
   "name": "python"
  }
 },
 "nbformat": 4,
 "nbformat_minor": 2
}
