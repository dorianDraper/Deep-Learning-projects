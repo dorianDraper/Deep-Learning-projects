{
  "cells": [
    {
      "cell_type": "markdown",
      "metadata": {
        "id": "y4wrqdKM76Kd"
      },
      "source": [
        "# Deep Learning using PyTorch\n",
        "Build Your First Pytorch Model\n"
      ]
    },
    {
      "cell_type": "code",
      "execution_count": 7,
      "metadata": {
        "id": "SiGdTdFZ76Kl",
        "outputId": "8fed3cf7-b110-44ad-a26f-0f973041e6a0",
        "colab": {
          "base_uri": "https://localhost:8080/"
        }
      },
      "outputs": [
        {
          "output_type": "stream",
          "name": "stdout",
          "text": [
            "System Version: 3.10.12 (main, Nov 20 2023, 15:14:05) [GCC 11.4.0]\n",
            "PyTorch version 2.3.0+cu121\n",
            "Torchvision version 0.18.0+cu121\n",
            "Numpy version 1.25.2\n",
            "Pandas version 2.0.3\n"
          ]
        }
      ],
      "source": [
        "import torch\n",
        "import torch.nn as nn # this is all the specific functions related to NN\n",
        "import torch.optim as optim # this will define our optimizer later\n",
        "from torch.utils.data import Dataset, DataLoader # very first step in the process\n",
        "import torchvision\n",
        "import torchvision.transforms as transforms\n",
        "from torchvision.datasets import ImageFolder # from torchvision we import these to work with images easier\n",
        "import timm # library for loading architectures specific for image classification\n",
        "\n",
        "import matplotlib.pyplot as plt # For data viz\n",
        "import pandas as pd\n",
        "import numpy as np\n",
        "import sys\n",
        "from tqdm.notebook import tqdm\n",
        "\n",
        "print('System Version:', sys.version)\n",
        "print('PyTorch version', torch.__version__)\n",
        "print('Torchvision version', torchvision.__version__)\n",
        "print('Numpy version', np.__version__)\n",
        "print('Pandas version', pd.__version__)"
      ]
    },
    {
      "cell_type": "markdown",
      "source": [
        "# Step 1. Pytorch Dataset (and Dataloader)\n",
        "\n",
        "Would you learn how to bake a cake without first having the ingredients? No.\n",
        "\n",
        "The same thing can be said for training a pytorch model without first having the dataset setup correctly.\n",
        "\n",
        "This is why datasets are important:\n",
        "\n",
        "- It's an organized way to structure how the data and labels are loaded into the model.\n",
        "- We can then wrap the dataset in a dataloader and pytorch will handle batching the shuffling the data for us when training the model!\n",
        "\n",
        "Datasets in PyTorch are extremely flexible, we can modify them to load the data in whatever way we want and take that dataset and just wrap it with a PyTorch dataloader to make it parallelized and load in the data in batches to the model."
      ],
      "metadata": {
        "id": "c41unibV-6yu"
      }
    },
    {
      "cell_type": "code",
      "source": [
        "class PlayingCardDataset(Dataset):  # This inherits from PyTorch Dataset we imported above\n",
        "    def __init__(self, data_dir, transform=None): # takes data_dir where our data is sitting\n",
        "        self.data = ImageFolder(data_dir, transform=transform) #\n",
        "\n",
        "    def __len__(self):         # Dataloader needs to know how many examples we have in a dataset\n",
        "        return len(self.data)\n",
        "\n",
        "    def __getitem__(self, idx): # this method takes an index location in our dataset and will return one item\n",
        "        return self.data[idx]\n",
        "\n",
        "    @property\n",
        "    def classes(self):\n",
        "        return self.data.classes"
      ],
      "metadata": {
        "id": "sCwjQ-tf9k9l"
      },
      "execution_count": null,
      "outputs": []
    }
  ],
  "metadata": {
    "language_info": {
      "name": "python"
    },
    "colab": {
      "provenance": [],
      "gpuType": "T4"
    },
    "kernelspec": {
      "name": "python3",
      "display_name": "Python 3"
    },
    "accelerator": "GPU"
  },
  "nbformat": 4,
  "nbformat_minor": 0
}